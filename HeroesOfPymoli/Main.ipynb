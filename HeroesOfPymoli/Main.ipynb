{
 "cells": [
  {
   "cell_type": "code",
   "execution_count": 1,
   "metadata": {},
   "outputs": [],
   "source": [
    "#Dependancies\n",
    "import pandas as pd"
   ]
  },
  {
   "cell_type": "code",
   "execution_count": 2,
   "metadata": {},
   "outputs": [
    {
     "data": {
      "text/html": [
       "<div>\n",
       "<style scoped>\n",
       "    .dataframe tbody tr th:only-of-type {\n",
       "        vertical-align: middle;\n",
       "    }\n",
       "\n",
       "    .dataframe tbody tr th {\n",
       "        vertical-align: top;\n",
       "    }\n",
       "\n",
       "    .dataframe thead th {\n",
       "        text-align: right;\n",
       "    }\n",
       "</style>\n",
       "<table border=\"1\" class=\"dataframe\">\n",
       "  <thead>\n",
       "    <tr style=\"text-align: right;\">\n",
       "      <th></th>\n",
       "      <th>Purchase ID</th>\n",
       "      <th>SN</th>\n",
       "      <th>Age</th>\n",
       "      <th>Gender</th>\n",
       "      <th>Item ID</th>\n",
       "      <th>Item Name</th>\n",
       "      <th>Price</th>\n",
       "    </tr>\n",
       "  </thead>\n",
       "  <tbody>\n",
       "    <tr>\n",
       "      <th>0</th>\n",
       "      <td>0</td>\n",
       "      <td>Lisim78</td>\n",
       "      <td>20</td>\n",
       "      <td>Male</td>\n",
       "      <td>108</td>\n",
       "      <td>Extraction, Quickblade Of Trembling Hands</td>\n",
       "      <td>3.53</td>\n",
       "    </tr>\n",
       "    <tr>\n",
       "      <th>1</th>\n",
       "      <td>1</td>\n",
       "      <td>Lisovynya38</td>\n",
       "      <td>40</td>\n",
       "      <td>Male</td>\n",
       "      <td>143</td>\n",
       "      <td>Frenzied Scimitar</td>\n",
       "      <td>1.56</td>\n",
       "    </tr>\n",
       "    <tr>\n",
       "      <th>2</th>\n",
       "      <td>2</td>\n",
       "      <td>Ithergue48</td>\n",
       "      <td>24</td>\n",
       "      <td>Male</td>\n",
       "      <td>92</td>\n",
       "      <td>Final Critic</td>\n",
       "      <td>4.88</td>\n",
       "    </tr>\n",
       "    <tr>\n",
       "      <th>3</th>\n",
       "      <td>3</td>\n",
       "      <td>Chamassasya86</td>\n",
       "      <td>24</td>\n",
       "      <td>Male</td>\n",
       "      <td>100</td>\n",
       "      <td>Blindscythe</td>\n",
       "      <td>3.27</td>\n",
       "    </tr>\n",
       "    <tr>\n",
       "      <th>4</th>\n",
       "      <td>4</td>\n",
       "      <td>Iskosia90</td>\n",
       "      <td>23</td>\n",
       "      <td>Male</td>\n",
       "      <td>131</td>\n",
       "      <td>Fury</td>\n",
       "      <td>1.44</td>\n",
       "    </tr>\n",
       "  </tbody>\n",
       "</table>\n",
       "</div>"
      ],
      "text/plain": [
       "   Purchase ID             SN  Age Gender  Item ID  \\\n",
       "0            0        Lisim78   20   Male      108   \n",
       "1            1    Lisovynya38   40   Male      143   \n",
       "2            2     Ithergue48   24   Male       92   \n",
       "3            3  Chamassasya86   24   Male      100   \n",
       "4            4      Iskosia90   23   Male      131   \n",
       "\n",
       "                                   Item Name  Price  \n",
       "0  Extraction, Quickblade Of Trembling Hands   3.53  \n",
       "1                          Frenzied Scimitar   1.56  \n",
       "2                               Final Critic   4.88  \n",
       "3                                Blindscythe   3.27  \n",
       "4                                       Fury   1.44  "
      ]
     },
     "execution_count": 2,
     "metadata": {},
     "output_type": "execute_result"
    }
   ],
   "source": [
    "#open csv file\n",
    "# Store filepath in a variable\n",
    "purchases = \"Resources/purchase_data.csv\"\n",
    "# Read our Data file with the pandas library\n",
    "# Not every CSV requires an encoding, but be aware this can come up\n",
    "purchases_df = pd.read_csv(purchases)\n",
    "# Show just the header\n",
    "purchases_df.head()\n",
    "#review what data looks like"
   ]
  },
  {
   "cell_type": "markdown",
   "metadata": {},
   "source": [
    "Player Count"
   ]
  },
  {
   "cell_type": "markdown",
   "metadata": {},
   "source": [
    "    Display the total number of players"
   ]
  },
  {
   "cell_type": "code",
   "execution_count": 3,
   "metadata": {},
   "outputs": [
    {
     "data": {
      "text/html": [
       "<div>\n",
       "<style scoped>\n",
       "    .dataframe tbody tr th:only-of-type {\n",
       "        vertical-align: middle;\n",
       "    }\n",
       "\n",
       "    .dataframe tbody tr th {\n",
       "        vertical-align: top;\n",
       "    }\n",
       "\n",
       "    .dataframe thead th {\n",
       "        text-align: right;\n",
       "    }\n",
       "</style>\n",
       "<table border=\"1\" class=\"dataframe\">\n",
       "  <thead>\n",
       "    <tr style=\"text-align: right;\">\n",
       "      <th></th>\n",
       "      <th>Total Players</th>\n",
       "    </tr>\n",
       "  </thead>\n",
       "  <tbody>\n",
       "    <tr>\n",
       "      <th>0</th>\n",
       "      <td>576</td>\n",
       "    </tr>\n",
       "  </tbody>\n",
       "</table>\n",
       "</div>"
      ],
      "text/plain": [
       "   Total Players\n",
       "0            576"
      ]
     },
     "execution_count": 3,
     "metadata": {},
     "output_type": "execute_result"
    }
   ],
   "source": [
    "############ Start Analysis #############\n",
    "#########################################\n",
    "#########################################\n",
    "### calculate total number of players ### \n",
    "# use Unique?\n",
    "unique_SN_ct = purchases_df[\"SN\"].nunique()\n",
    "#unique_SN_ct\n",
    "player_ct_df = pd.DataFrame({\"Total Players\":[unique_SN_ct]})\n",
    "player_ct_df\n",
    "\n",
    "# End calculate total number of players #\n",
    "#########################################"
   ]
  },
  {
   "cell_type": "markdown",
   "metadata": {},
   "source": [
    "Purchasing Analysis (Total)"
   ]
  },
  {
   "cell_type": "markdown",
   "metadata": {},
   "source": [
    "    Run basic calculations to obtain number of unique items, average price, etc.\n",
    "    Create a summary data frame to hold the results\n",
    "    Optional: give the displayed data cleaner formatting\n",
    "    Display the summary data frame"
   ]
  },
  {
   "cell_type": "code",
   "execution_count": 5,
   "metadata": {},
   "outputs": [],
   "source": [
    "#######################################\n",
    "##### Purchasing Analysis (Total) #####\n",
    "#* Number of Unique Items\n",
    "unique_item = purchases_df[\"Item Name\"].nunique()\n",
    "#unique_item"
   ]
  },
  {
   "cell_type": "code",
   "execution_count": 6,
   "metadata": {},
   "outputs": [],
   "source": [
    "#* Average Purchase Price\n",
    "average_price = round(purchases_df[\"Price\"].mean(), 2)\n",
    "#average_price"
   ]
  },
  {
   "cell_type": "code",
   "execution_count": 7,
   "metadata": {},
   "outputs": [],
   "source": [
    "#* Total Number of Purchases\n",
    "ttl_purchases = len(purchases_df)\n",
    "#ttl_purchases"
   ]
  },
  {
   "cell_type": "code",
   "execution_count": 8,
   "metadata": {},
   "outputs": [],
   "source": [
    "#* Total Revenue\n",
    "ttl_rev = purchases_df[\"Price\"].sum()\n",
    "#ttl_rev"
   ]
  },
  {
   "cell_type": "code",
   "execution_count": 9,
   "metadata": {},
   "outputs": [
    {
     "data": {
      "text/html": [
       "<style  type=\"text/css\" >\n",
       "</style><table id=\"T_431df0ec_7a18_11eb_9507_c82158c314c7\" ><thead>    <tr>        <th class=\"blank level0\" ></th>        <th class=\"col_heading level0 col0\" >Number of Unique Items</th>        <th class=\"col_heading level0 col1\" >Average Price</th>        <th class=\"col_heading level0 col2\" >Number of Purchases</th>        <th class=\"col_heading level0 col3\" >Total Revenue</th>    </tr></thead><tbody>\n",
       "                <tr>\n",
       "                        <th id=\"T_431df0ec_7a18_11eb_9507_c82158c314c7level0_row0\" class=\"row_heading level0 row0\" >0</th>\n",
       "                        <td id=\"T_431df0ec_7a18_11eb_9507_c82158c314c7row0_col0\" class=\"data row0 col0\" >179</td>\n",
       "                        <td id=\"T_431df0ec_7a18_11eb_9507_c82158c314c7row0_col1\" class=\"data row0 col1\" >$3.05</td>\n",
       "                        <td id=\"T_431df0ec_7a18_11eb_9507_c82158c314c7row0_col2\" class=\"data row0 col2\" >780</td>\n",
       "                        <td id=\"T_431df0ec_7a18_11eb_9507_c82158c314c7row0_col3\" class=\"data row0 col3\" >$2,379.77</td>\n",
       "            </tr>\n",
       "    </tbody></table>"
      ],
      "text/plain": [
       "<pandas.io.formats.style.Styler at 0x22651e1f640>"
      ]
     },
     "execution_count": 9,
     "metadata": {},
     "output_type": "execute_result"
    }
   ],
   "source": [
    "unique_items_df = pd.DataFrame({\"Number of Unique Items\":[unique_item],\n",
    "                                \"Average Price\":[average_price],\n",
    "                                \"Number of Purchases\":[ttl_purchases],\n",
    "                                \"Total Revenue\":[ttl_rev]\n",
    "                               })\n",
    "\n",
    "unique_items_df.style.format({\"Total Revenue\":\"${:,.2f}\", \"Average Price\":\"${:,.2f}\"})                              \n",
    "## End Purchasing Analysis (Total) ##\n",
    "#####################################"
   ]
  },
  {
   "cell_type": "code",
   "execution_count": 13,
   "metadata": {},
   "outputs": [],
   "source": [
    "#############################\n",
    "#### Gender Demographics ####\n",
    "#group by gender\n",
    "by_gender = purchases_df.groupby(\"Gender\")\n",
    "#count unique Screen names by gender\n",
    "count_gender = by_gender.nunique()[\"SN\"] \n",
    "#count_gender"
   ]
  },
  {
   "cell_type": "code",
   "execution_count": 14,
   "metadata": {},
   "outputs": [],
   "source": [
    "#Calculate percentage\n",
    "percent_gender = round(count_gender/unique_SN_ct*100,2)\n",
    "#percent_gender"
   ]
  },
  {
   "cell_type": "code",
   "execution_count": 15,
   "metadata": {},
   "outputs": [
    {
     "data": {
      "text/html": [
       "<style  type=\"text/css\" >\n",
       "</style><table id=\"T_6b35affb_7a18_11eb_8a3a_c82158c314c7\" ><thead>    <tr>        <th class=\"blank level0\" ></th>        <th class=\"col_heading level0 col0\" >Total Count</th>        <th class=\"col_heading level0 col1\" >Percentage of Players</th>    </tr>    <tr>        <th class=\"index_name level0\" >Gender</th>        <th class=\"blank\" ></th>        <th class=\"blank\" ></th>    </tr></thead><tbody>\n",
       "                <tr>\n",
       "                        <th id=\"T_6b35affb_7a18_11eb_8a3a_c82158c314c7level0_row0\" class=\"row_heading level0 row0\" >Male</th>\n",
       "                        <td id=\"T_6b35affb_7a18_11eb_8a3a_c82158c314c7row0_col0\" class=\"data row0 col0\" >484</td>\n",
       "                        <td id=\"T_6b35affb_7a18_11eb_8a3a_c82158c314c7row0_col1\" class=\"data row0 col1\" >84.03%</td>\n",
       "            </tr>\n",
       "            <tr>\n",
       "                        <th id=\"T_6b35affb_7a18_11eb_8a3a_c82158c314c7level0_row1\" class=\"row_heading level0 row1\" >Female</th>\n",
       "                        <td id=\"T_6b35affb_7a18_11eb_8a3a_c82158c314c7row1_col0\" class=\"data row1 col0\" >81</td>\n",
       "                        <td id=\"T_6b35affb_7a18_11eb_8a3a_c82158c314c7row1_col1\" class=\"data row1 col1\" >14.06%</td>\n",
       "            </tr>\n",
       "            <tr>\n",
       "                        <th id=\"T_6b35affb_7a18_11eb_8a3a_c82158c314c7level0_row2\" class=\"row_heading level0 row2\" >Other / Non-Disclosed</th>\n",
       "                        <td id=\"T_6b35affb_7a18_11eb_8a3a_c82158c314c7row2_col0\" class=\"data row2 col0\" >11</td>\n",
       "                        <td id=\"T_6b35affb_7a18_11eb_8a3a_c82158c314c7row2_col1\" class=\"data row2 col1\" >1.91%</td>\n",
       "            </tr>\n",
       "    </tbody></table>"
      ],
      "text/plain": [
       "<pandas.io.formats.style.Styler at 0x22652fcde20>"
      ]
     },
     "execution_count": 15,
     "metadata": {},
     "output_type": "execute_result"
    }
   ],
   "source": [
    "#Format data frame\n",
    "gender_demo_df = pd.DataFrame({\"Total Count\":count_gender, \"Percentage of Players\":percent_gender})\n",
    "sorted_gender_demo_df = gender_demo_df.sort_values(by=\"Total Count\", ascending=False)\n",
    "sorted_gender_demo_df\n",
    "sorted_gender_demo_df.style.format({\"Percentage of Players\":\"{:,.2f}%\"})\n",
    "## End Gender Demographics ##\n",
    "#############################"
   ]
  },
  {
   "cell_type": "code",
   "execution_count": 16,
   "metadata": {},
   "outputs": [],
   "source": [
    "#############################\n",
    "#### Count gender totals ####\n",
    "#* The below each broken by gender\n",
    "# * Purchase Count\n",
    "purchase_gender_ct = by_gender[\"Purchase ID\"].count()\n",
    "#purchase_gender_ct"
   ]
  },
  {
   "cell_type": "code",
   "execution_count": 17,
   "metadata": {},
   "outputs": [],
   "source": [
    "#  * Average Purchase Price\n",
    "price_gender_avg = round(by_gender[\"Price\"].mean(),2)\n",
    "#price_gender_avg"
   ]
  },
  {
   "cell_type": "code",
   "execution_count": 18,
   "metadata": {},
   "outputs": [],
   "source": [
    "#  * Total Purchase Value\n",
    "price_gender_ttl = by_gender[\"Price\"].sum()\n",
    "#price_gender_ttl"
   ]
  },
  {
   "cell_type": "code",
   "execution_count": 19,
   "metadata": {},
   "outputs": [],
   "source": [
    "#  * Average Purchase Total per Person by Gender\n",
    "avg_purchase_gender = round(price_gender_ttl/count_gender,2)\n",
    "#avg_purchase_gender "
   ]
  },
  {
   "cell_type": "code",
   "execution_count": 20,
   "metadata": {},
   "outputs": [
    {
     "data": {
      "text/html": [
       "<style  type=\"text/css\" >\n",
       "</style><table id=\"T_74d5f49c_7a18_11eb_9d2a_c82158c314c7\" ><thead>    <tr>        <th class=\"blank level0\" ></th>        <th class=\"col_heading level0 col0\" >Purchase Count</th>        <th class=\"col_heading level0 col1\" >Average Purchase Price</th>        <th class=\"col_heading level0 col2\" >Total Purchase Value</th>        <th class=\"col_heading level0 col3\" >Avg Total Purchase per Person</th>    </tr>    <tr>        <th class=\"index_name level0\" >Gender</th>        <th class=\"blank\" ></th>        <th class=\"blank\" ></th>        <th class=\"blank\" ></th>        <th class=\"blank\" ></th>    </tr></thead><tbody>\n",
       "                <tr>\n",
       "                        <th id=\"T_74d5f49c_7a18_11eb_9d2a_c82158c314c7level0_row0\" class=\"row_heading level0 row0\" >Male</th>\n",
       "                        <td id=\"T_74d5f49c_7a18_11eb_9d2a_c82158c314c7row0_col0\" class=\"data row0 col0\" >652</td>\n",
       "                        <td id=\"T_74d5f49c_7a18_11eb_9d2a_c82158c314c7row0_col1\" class=\"data row0 col1\" >$3.02</td>\n",
       "                        <td id=\"T_74d5f49c_7a18_11eb_9d2a_c82158c314c7row0_col2\" class=\"data row0 col2\" >$1,967.64</td>\n",
       "                        <td id=\"T_74d5f49c_7a18_11eb_9d2a_c82158c314c7row0_col3\" class=\"data row0 col3\" >$4.07</td>\n",
       "            </tr>\n",
       "            <tr>\n",
       "                        <th id=\"T_74d5f49c_7a18_11eb_9d2a_c82158c314c7level0_row1\" class=\"row_heading level0 row1\" >Female</th>\n",
       "                        <td id=\"T_74d5f49c_7a18_11eb_9d2a_c82158c314c7row1_col0\" class=\"data row1 col0\" >113</td>\n",
       "                        <td id=\"T_74d5f49c_7a18_11eb_9d2a_c82158c314c7row1_col1\" class=\"data row1 col1\" >$3.20</td>\n",
       "                        <td id=\"T_74d5f49c_7a18_11eb_9d2a_c82158c314c7row1_col2\" class=\"data row1 col2\" >$361.94</td>\n",
       "                        <td id=\"T_74d5f49c_7a18_11eb_9d2a_c82158c314c7row1_col3\" class=\"data row1 col3\" >$4.47</td>\n",
       "            </tr>\n",
       "            <tr>\n",
       "                        <th id=\"T_74d5f49c_7a18_11eb_9d2a_c82158c314c7level0_row2\" class=\"row_heading level0 row2\" >Other / Non-Disclosed</th>\n",
       "                        <td id=\"T_74d5f49c_7a18_11eb_9d2a_c82158c314c7row2_col0\" class=\"data row2 col0\" >15</td>\n",
       "                        <td id=\"T_74d5f49c_7a18_11eb_9d2a_c82158c314c7row2_col1\" class=\"data row2 col1\" >$3.35</td>\n",
       "                        <td id=\"T_74d5f49c_7a18_11eb_9d2a_c82158c314c7row2_col2\" class=\"data row2 col2\" >$50.19</td>\n",
       "                        <td id=\"T_74d5f49c_7a18_11eb_9d2a_c82158c314c7row2_col3\" class=\"data row2 col3\" >$4.56</td>\n",
       "            </tr>\n",
       "    </tbody></table>"
      ],
      "text/plain": [
       "<pandas.io.formats.style.Styler at 0x22652fdb4c0>"
      ]
     },
     "execution_count": 20,
     "metadata": {},
     "output_type": "execute_result"
    }
   ],
   "source": [
    "#Format data frame\n",
    "purchase_gender_df = pd.DataFrame({\"Purchase Count\":purchase_gender_ct, \n",
    "                                   \"Average Purchase Price\":price_gender_avg, \n",
    "                                   \"Total Purchase Value\":price_gender_ttl, \n",
    "                                   \"Avg Total Purchase per Person\":avg_purchase_gender})\n",
    "sorted_purchase_gender_df = purchase_gender_df.sort_values(by=\"Purchase Count\", ascending=False)\n",
    "sorted_purchase_gender_df.style.format({\"Average Purchase Price\":\"${:,.2f}\", \n",
    "                                 \"Total Purchase Value\":\"${:,.2f}\",\n",
    "                                 \"Avg Total Purchase per Person\":\"${:,.2f}\"})\n",
    "## End Count gender totals ##\n",
    "#############################"
   ]
  },
  {
   "cell_type": "code",
   "execution_count": null,
   "metadata": {},
   "outputs": [],
   "source": [
    "##########################\n",
    "#### Age Demographics ####\n",
    "#* The below each broken into bins of 4 years (i.e. &lt;10, 10-14, 15-19, etc.)\n",
    "#Bins are &lt;10, 10-14, 15-19   \n",
    "bins = [0, 9.9, 14.9, 19.9, 24.9, 29.9, 34.9, 39.9, 99]\n",
    "# Create the names for the eight bins\n",
    "age_range = [\"0-9\", \"10-14\", \"15-19\", \"20-24\", \"25-29\", \"30-34\", \"35-39\", \"40+\"]\n",
    "purchases_df[\"Age Range\"] = pd.cut(purchases_df[\"Age\"], bins, labels=age_range, include_lowest=True)\n",
    "#purchases_df"
   ]
  },
  {
   "cell_type": "code",
   "execution_count": null,
   "metadata": {},
   "outputs": [],
   "source": [
    "# * Purchase Count\n",
    "by_age_range = purchases_df.groupby(\"Age Range\")\n",
    "#by_age_range.head()"
   ]
  },
  {
   "cell_type": "code",
   "execution_count": null,
   "metadata": {},
   "outputs": [],
   "source": [
    "#count Purchases by age range\n",
    "count_age_range = by_age_range.count()[\"SN\"]\n",
    "#count_age_range"
   ]
  },
  {
   "cell_type": "code",
   "execution_count": null,
   "metadata": {},
   "outputs": [],
   "source": [
    "#count Purchases by Screen name and age range\n",
    "unique_count_age_range = by_age_range.nunique()[\"SN\"]\n",
    "#count Purchases by age range\n",
    "count_age_range = by_age_range.count()[\"SN\"]\n",
    "#count_age_range"
   ]
  },
  {
   "cell_type": "code",
   "execution_count": null,
   "metadata": {},
   "outputs": [],
   "source": [
    "#Percent each age range\n",
    "percent_age_range = round(count_age_range/unique_SN_ct*100,2)\n",
    "#percent_age_range"
   ]
  },
  {
   "cell_type": "code",
   "execution_count": null,
   "metadata": {},
   "outputs": [],
   "source": [
    "#Format data frame\n",
    "age_df = pd.DataFrame({\"Total Count\":count_age_range, \n",
    "                        \"Percentage of Players\":percent_age_range})\n",
    "age_df.style.format({\"Percentage of Players\":\"{:,.2f}%\"})"
   ]
  },
  {
   "cell_type": "code",
   "execution_count": null,
   "metadata": {},
   "outputs": [],
   "source": [
    "#  * Average Purchase Price\n",
    "avg_age_range = round(by_age_range.mean()[\"Price\"],2)\n",
    "#avg_age_range"
   ]
  },
  {
   "cell_type": "code",
   "execution_count": null,
   "metadata": {},
   "outputs": [],
   "source": [
    "#  * Total Purchase Value\n",
    "ttl_age_range = by_age_range[\"Price\"].sum()\n",
    "#ttl_age_range"
   ]
  },
  {
   "cell_type": "code",
   "execution_count": null,
   "metadata": {},
   "outputs": [],
   "source": [
    "#Average Per person\n",
    "avg_per_person = round(ttl_age_range/count_age_range,2)\n",
    "#avg_per_person"
   ]
  },
  {
   "cell_type": "code",
   "execution_count": null,
   "metadata": {},
   "outputs": [],
   "source": [
    "#Format data frame\n",
    "age_demo_df = pd.DataFrame({\"Purchase Count\":count_age_range, \n",
    "                            \"Average Purchase Price\":avg_age_range,\n",
    "                            \"Total Purchase Value\":ttl_age_range,\n",
    "                            \"Avg Total Purchase per Person\":avg_per_person})\n",
    "age_demo_df.style.format({\"Average Purchase Price\":\"{:,.2f}%\", \n",
    "                          \"Total Purchase Value\":\"${:,.2f}\", \n",
    "                          \"Avg Total Purchase per Person\":\"${:,.2f}\"})\n",
    "## End Age Demographics ##\n",
    "##########################"
   ]
  },
  {
   "cell_type": "code",
   "execution_count": null,
   "metadata": {},
   "outputs": [],
   "source": [
    "######################\n",
    "#### Top Spenders ####\n",
    "#* Identify the the top 5 spenders in the game by total purchase value, then list (in a table):\n",
    "#  * SN\n",
    "#group by SN\n",
    "by_SN = purchases_df.groupby(\"SN\")\n",
    "by_SN"
   ]
  },
  {
   "cell_type": "code",
   "execution_count": null,
   "metadata": {},
   "outputs": [],
   "source": [
    "#Total purchases by screen name\n",
    "ttl_by_SN = by_SN.sum()[\"Price\"]\n",
    "#ttl_by_SN"
   ]
  },
  {
   "cell_type": "code",
   "execution_count": null,
   "metadata": {},
   "outputs": [],
   "source": [
    "#Count number of purchases\n",
    "ttl_purchases_SN = by_SN.count()[\"Purchase ID\"]\n",
    "#ttl_purchases_SN"
   ]
  },
  {
   "cell_type": "code",
   "execution_count": null,
   "metadata": {},
   "outputs": [],
   "source": [
    "#  * Average Purchase Price\n",
    "avg_by_SN = round(by_SN.mean()[\"Price\"],2)\n",
    "#avg_by_SN"
   ]
  },
  {
   "cell_type": "code",
   "execution_count": null,
   "metadata": {},
   "outputs": [],
   "source": [
    "#Created Data Frame\n",
    "SN_df = pd.DataFrame({\"Purchase Count\":ttl_purchases_SN,\n",
    "                     \"Average Purchase Price\":avg_by_SN,\n",
    "                     \"Total Purchase Value\":ttl_by_SN})\n",
    "#SN_df"
   ]
  },
  {
   "cell_type": "code",
   "execution_count": null,
   "metadata": {},
   "outputs": [],
   "source": [
    "#Find 5 largest total value\n",
    "largest_SN_df = SN_df.nlargest(5, \"Total Purchase Value\")\n",
    "largest_SN_df\n",
    "## End Top Spenders ##\n",
    "######################"
   ]
  },
  {
   "cell_type": "code",
   "execution_count": null,
   "metadata": {},
   "outputs": [],
   "source": [
    "############################\n",
    "#### Most popular items ####\n",
    "#* Identify the 5 most popular items by purchase count, then list (in a table):\n",
    "#group by Item\n",
    "by_item_ID = purchases_df.groupby([\"Item ID\",\"Item Name\"])\n",
    "by_item_ID"
   ]
  },
  {
   "cell_type": "code",
   "execution_count": null,
   "metadata": {},
   "outputs": [],
   "source": [
    "#Count how many of each item was sold\n",
    "ct_item_sold = by_item_ID.count()[\"Price\"]\n",
    "#ct_item_sold"
   ]
  },
  {
   "cell_type": "code",
   "execution_count": null,
   "metadata": {},
   "outputs": [],
   "source": [
    "total_value_item = by_item_ID.sum()[\"Price\"]\n",
    "#total_value_item"
   ]
  },
  {
   "cell_type": "code",
   "execution_count": null,
   "metadata": {},
   "outputs": [],
   "source": [
    "by_item_price = round(total_value_item/ct_item_sold,2)\n",
    "#by_item_price"
   ]
  },
  {
   "cell_type": "code",
   "execution_count": null,
   "metadata": {},
   "outputs": [],
   "source": [
    "item_df = pd.DataFrame({\"Purchase Count\":ct_item_sold,\n",
    "                      \"Item Price\":by_item_price, \n",
    "                      \"Total Purchase Value\":total_value_item})                       \n",
    "#item_df"
   ]
  },
  {
   "cell_type": "code",
   "execution_count": null,
   "metadata": {},
   "outputs": [],
   "source": [
    "#Top 5 Items\n",
    "popular_item_df = item_df.nlargest(5, \"Total Purchase Value\")\n",
    "popular_item_df\n",
    "## End Most popular items ##\n",
    "############################"
   ]
  },
  {
   "cell_type": "code",
   "execution_count": null,
   "metadata": {},
   "outputs": [],
   "source": [
    "###############################\n",
    "#### Most Profitable Items ####\n",
    "# Take the most_popular items data frame and change the sorting to find highest total purchase value\n",
    "popular_formatted = popular_item_df.sort_values([\"Total Purchase Value\"],\n",
    "                                                   ascending=False).head()\n",
    "# Format with currency style\n",
    "popular_formatted.style.format({\"Item Price\":\"${:,.2f}\",\n",
    "                                \"Total Purchase Value\":\"${:,.2f}\"})\n",
    "## End Most Profitable Items ##           \n",
    "###############################\n"
   ]
  }
 ],
 "metadata": {
  "kernelspec": {
   "display_name": "Python 3",
   "language": "python",
   "name": "python3"
  },
  "language_info": {
   "codemirror_mode": {
    "name": "ipython",
    "version": 3
   },
   "file_extension": ".py",
   "mimetype": "text/x-python",
   "name": "python",
   "nbconvert_exporter": "python",
   "pygments_lexer": "ipython3",
   "version": "3.8.5"
  }
 },
 "nbformat": 4,
 "nbformat_minor": 4
}
