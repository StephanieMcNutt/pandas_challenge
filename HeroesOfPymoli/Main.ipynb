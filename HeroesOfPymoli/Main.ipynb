{
 "cells": [
  {
   "cell_type": "code",
   "execution_count": 1,
   "metadata": {},
   "outputs": [],
   "source": [
    "#Dependancies\n",
    "import pandas as pd"
   ]
  },
  {
   "cell_type": "code",
   "execution_count": 2,
   "metadata": {},
   "outputs": [
    {
     "data": {
      "text/html": [
       "<div>\n",
       "<style scoped>\n",
       "    .dataframe tbody tr th:only-of-type {\n",
       "        vertical-align: middle;\n",
       "    }\n",
       "\n",
       "    .dataframe tbody tr th {\n",
       "        vertical-align: top;\n",
       "    }\n",
       "\n",
       "    .dataframe thead th {\n",
       "        text-align: right;\n",
       "    }\n",
       "</style>\n",
       "<table border=\"1\" class=\"dataframe\">\n",
       "  <thead>\n",
       "    <tr style=\"text-align: right;\">\n",
       "      <th></th>\n",
       "      <th>Purchase ID</th>\n",
       "      <th>SN</th>\n",
       "      <th>Age</th>\n",
       "      <th>Gender</th>\n",
       "      <th>Item ID</th>\n",
       "      <th>Item Name</th>\n",
       "      <th>Price</th>\n",
       "    </tr>\n",
       "  </thead>\n",
       "  <tbody>\n",
       "    <tr>\n",
       "      <th>0</th>\n",
       "      <td>0</td>\n",
       "      <td>Lisim78</td>\n",
       "      <td>20</td>\n",
       "      <td>Male</td>\n",
       "      <td>108</td>\n",
       "      <td>Extraction, Quickblade Of Trembling Hands</td>\n",
       "      <td>3.53</td>\n",
       "    </tr>\n",
       "    <tr>\n",
       "      <th>1</th>\n",
       "      <td>1</td>\n",
       "      <td>Lisovynya38</td>\n",
       "      <td>40</td>\n",
       "      <td>Male</td>\n",
       "      <td>143</td>\n",
       "      <td>Frenzied Scimitar</td>\n",
       "      <td>1.56</td>\n",
       "    </tr>\n",
       "    <tr>\n",
       "      <th>2</th>\n",
       "      <td>2</td>\n",
       "      <td>Ithergue48</td>\n",
       "      <td>24</td>\n",
       "      <td>Male</td>\n",
       "      <td>92</td>\n",
       "      <td>Final Critic</td>\n",
       "      <td>4.88</td>\n",
       "    </tr>\n",
       "    <tr>\n",
       "      <th>3</th>\n",
       "      <td>3</td>\n",
       "      <td>Chamassasya86</td>\n",
       "      <td>24</td>\n",
       "      <td>Male</td>\n",
       "      <td>100</td>\n",
       "      <td>Blindscythe</td>\n",
       "      <td>3.27</td>\n",
       "    </tr>\n",
       "    <tr>\n",
       "      <th>4</th>\n",
       "      <td>4</td>\n",
       "      <td>Iskosia90</td>\n",
       "      <td>23</td>\n",
       "      <td>Male</td>\n",
       "      <td>131</td>\n",
       "      <td>Fury</td>\n",
       "      <td>1.44</td>\n",
       "    </tr>\n",
       "  </tbody>\n",
       "</table>\n",
       "</div>"
      ],
      "text/plain": [
       "   Purchase ID             SN  Age Gender  Item ID  \\\n",
       "0            0        Lisim78   20   Male      108   \n",
       "1            1    Lisovynya38   40   Male      143   \n",
       "2            2     Ithergue48   24   Male       92   \n",
       "3            3  Chamassasya86   24   Male      100   \n",
       "4            4      Iskosia90   23   Male      131   \n",
       "\n",
       "                                   Item Name  Price  \n",
       "0  Extraction, Quickblade Of Trembling Hands   3.53  \n",
       "1                          Frenzied Scimitar   1.56  \n",
       "2                               Final Critic   4.88  \n",
       "3                                Blindscythe   3.27  \n",
       "4                                       Fury   1.44  "
      ]
     },
     "execution_count": 2,
     "metadata": {},
     "output_type": "execute_result"
    }
   ],
   "source": [
    "#open csv file\n",
    "# Store filepath in a variable\n",
    "purchases = \"Resources/purchase_data.csv\"\n",
    "# Read our Data file with the pandas library\n",
    "# Not every CSV requires an encoding, but be aware this can come up\n",
    "purchases_df = pd.read_csv(purchases)\n",
    "# Show just the header\n",
    "purchases_df.head()\n",
    "#review what data looks like"
   ]
  },
  {
   "cell_type": "code",
   "execution_count": 89,
   "metadata": {},
   "outputs": [
    {
     "data": {
      "text/html": [
       "<div>\n",
       "<style scoped>\n",
       "    .dataframe tbody tr th:only-of-type {\n",
       "        vertical-align: middle;\n",
       "    }\n",
       "\n",
       "    .dataframe tbody tr th {\n",
       "        vertical-align: top;\n",
       "    }\n",
       "\n",
       "    .dataframe thead th {\n",
       "        text-align: right;\n",
       "    }\n",
       "</style>\n",
       "<table border=\"1\" class=\"dataframe\">\n",
       "  <thead>\n",
       "    <tr style=\"text-align: right;\">\n",
       "      <th></th>\n",
       "      <th>Total Players</th>\n",
       "    </tr>\n",
       "  </thead>\n",
       "  <tbody>\n",
       "    <tr>\n",
       "      <th>0</th>\n",
       "      <td>576</td>\n",
       "    </tr>\n",
       "  </tbody>\n",
       "</table>\n",
       "</div>"
      ],
      "text/plain": [
       "   Total Players\n",
       "0            576"
      ]
     },
     "execution_count": 89,
     "metadata": {},
     "output_type": "execute_result"
    }
   ],
   "source": [
    "############ Start Analysis #############\n",
    "#########################################\n",
    "### calculate total number of players ### \n",
    "# use Unique?\n",
    "unique_SN_ct = purchases_df[\"SN\"].nunique()\n",
    "player_ct_df = pd.DataFrame({\"Total Players\":[unique_SN_ct]})\n",
    "player_ct_df\n",
    "# End calculate total number of players #\n",
    "#########################################"
   ]
  },
  {
   "cell_type": "code",
   "execution_count": 4,
   "metadata": {},
   "outputs": [
    {
     "data": {
      "text/plain": [
       "179"
      ]
     },
     "execution_count": 4,
     "metadata": {},
     "output_type": "execute_result"
    }
   ],
   "source": [
    "#######################################\n",
    "##### Purchasing Analysis (Total) #####\n",
    "#* Number of Unique Items\n",
    "unique_item = purchases_df[\"Item Name\"].nunique()\n",
    "#unique_item"
   ]
  },
  {
   "cell_type": "code",
   "execution_count": 110,
   "metadata": {},
   "outputs": [],
   "source": [
    "#* Average Purchase Price\n",
    "average_price = round(purchases_df[\"Price\"].mean(), 2)\n",
    "#average_price"
   ]
  },
  {
   "cell_type": "code",
   "execution_count": 102,
   "metadata": {},
   "outputs": [],
   "source": [
    "#* Total Number of Purchases\n",
    "ttl_purchases = len(purchases_df)\n",
    "#ttl_purchases"
   ]
  },
  {
   "cell_type": "code",
   "execution_count": 103,
   "metadata": {},
   "outputs": [],
   "source": [
    "#* Total Revenue\n",
    "ttl_rev = purchases_df[\"Price\"].sum()\n",
    "#ttl_rev"
   ]
  },
  {
   "cell_type": "code",
   "execution_count": 112,
   "metadata": {},
   "outputs": [
    {
     "data": {
      "text/html": [
       "<style  type=\"text/css\" >\n",
       "</style><table id=\"T_d733c2b8_7993_11eb_b879_c82158c314c7\" ><thead>    <tr>        <th class=\"blank level0\" ></th>        <th class=\"col_heading level0 col0\" >Number of Unique Items</th>        <th class=\"col_heading level0 col1\" >Average Price</th>        <th class=\"col_heading level0 col2\" >Number of Purchases</th>        <th class=\"col_heading level0 col3\" >Total Revenue</th>    </tr></thead><tbody>\n",
       "                <tr>\n",
       "                        <th id=\"T_d733c2b8_7993_11eb_b879_c82158c314c7level0_row0\" class=\"row_heading level0 row0\" >0</th>\n",
       "                        <td id=\"T_d733c2b8_7993_11eb_b879_c82158c314c7row0_col0\" class=\"data row0 col0\" >576</td>\n",
       "                        <td id=\"T_d733c2b8_7993_11eb_b879_c82158c314c7row0_col1\" class=\"data row0 col1\" >$3.05</td>\n",
       "                        <td id=\"T_d733c2b8_7993_11eb_b879_c82158c314c7row0_col2\" class=\"data row0 col2\" >780</td>\n",
       "                        <td id=\"T_d733c2b8_7993_11eb_b879_c82158c314c7row0_col3\" class=\"data row0 col3\" >$2,379.77</td>\n",
       "            </tr>\n",
       "    </tbody></table>"
      ],
      "text/plain": [
       "<pandas.io.formats.style.Styler at 0x1c83fa5ea90>"
      ]
     },
     "execution_count": 112,
     "metadata": {},
     "output_type": "execute_result"
    }
   ],
   "source": [
    "unique_items_df = pd.DataFrame({\"Number of Unique Items\":[unique_SN_ct],\n",
    "                                \"Average Price\":[average_price],\n",
    "                                \"Number of Purchases\":[ttl_purchases],\n",
    "                                \"Total Revenue\":[ttl_rev]\n",
    "                               })\n",
    "\n",
    "unique_items_df.style.format({\"Total Revenue\":\"${:,.2f}\", \"Average Price\":\"${:,.2f}\"})                              \n",
    "## End Purchasing Analysis (Total) ##\n",
    "#####################################"
   ]
  },
  {
   "cell_type": "code",
   "execution_count": 8,
   "metadata": {},
   "outputs": [
    {
     "data": {
      "text/html": [
       "<div>\n",
       "<style scoped>\n",
       "    .dataframe tbody tr th:only-of-type {\n",
       "        vertical-align: middle;\n",
       "    }\n",
       "\n",
       "    .dataframe tbody tr th {\n",
       "        vertical-align: top;\n",
       "    }\n",
       "\n",
       "    .dataframe thead th {\n",
       "        text-align: right;\n",
       "    }\n",
       "</style>\n",
       "<table border=\"1\" class=\"dataframe\">\n",
       "  <thead>\n",
       "    <tr style=\"text-align: right;\">\n",
       "      <th></th>\n",
       "      <th>Gender Percentage</th>\n",
       "      <th>Gender Count</th>\n",
       "    </tr>\n",
       "    <tr>\n",
       "      <th>Gender</th>\n",
       "      <th></th>\n",
       "      <th></th>\n",
       "    </tr>\n",
       "  </thead>\n",
       "  <tbody>\n",
       "    <tr>\n",
       "      <th>Female</th>\n",
       "      <td>14.06</td>\n",
       "      <td>81</td>\n",
       "    </tr>\n",
       "    <tr>\n",
       "      <th>Male</th>\n",
       "      <td>84.03</td>\n",
       "      <td>484</td>\n",
       "    </tr>\n",
       "    <tr>\n",
       "      <th>Other / Non-Disclosed</th>\n",
       "      <td>1.91</td>\n",
       "      <td>11</td>\n",
       "    </tr>\n",
       "  </tbody>\n",
       "</table>\n",
       "</div>"
      ],
      "text/plain": [
       "                       Gender Percentage  Gender Count\n",
       "Gender                                                \n",
       "Female                             14.06            81\n",
       "Male                               84.03           484\n",
       "Other / Non-Disclosed               1.91            11"
      ]
     },
     "execution_count": 8,
     "metadata": {},
     "output_type": "execute_result"
    }
   ],
   "source": [
    "#############################\n",
    "#### Gender Demographics ####\n",
    "#group by gender\n",
    "by_gender = purchases_df.groupby(\"Gender\")\n",
    "#count unique Screen names by gender\n",
    "count_gender = by_gender.nunique()[\"SN\"] \n",
    "#Calculate percentage\n",
    "percent_gender = round(count_gender/unique_SN_ct*100,2)\n",
    "#Format data frame\n",
    "gender_demo_df = pd.DataFrame({\"Gender Percentage\":percent_gender, \"Gender Count\":count_gender})\n",
    "gender_demo_df\n",
    "## End Gender Demographics ##\n",
    "#############################"
   ]
  },
  {
   "cell_type": "code",
   "execution_count": 9,
   "metadata": {},
   "outputs": [
    {
     "data": {
      "text/plain": [
       "Gender\n",
       "Female                   113\n",
       "Male                     652\n",
       "Other / Non-Disclosed     15\n",
       "Name: Purchase ID, dtype: int64"
      ]
     },
     "execution_count": 9,
     "metadata": {},
     "output_type": "execute_result"
    }
   ],
   "source": [
    "#############################\n",
    "#### Count gender totals ####\n",
    "#* The below each broken by gender\n",
    "# * Purchase Count\n",
    "purchase_gender_ct = by_gender[\"Purchase ID\"].count()\n",
    "purchase_gender_ct"
   ]
  },
  {
   "cell_type": "code",
   "execution_count": 10,
   "metadata": {},
   "outputs": [
    {
     "data": {
      "text/plain": [
       "Gender\n",
       "Female                   3.20\n",
       "Male                     3.02\n",
       "Other / Non-Disclosed    3.35\n",
       "Name: Price, dtype: float64"
      ]
     },
     "execution_count": 10,
     "metadata": {},
     "output_type": "execute_result"
    }
   ],
   "source": [
    "#  * Average Purchase Price\n",
    "price_gender_avg = round(by_gender[\"Price\"].mean(),2)\n",
    "price_gender_avg"
   ]
  },
  {
   "cell_type": "code",
   "execution_count": 11,
   "metadata": {},
   "outputs": [
    {
     "data": {
      "text/plain": [
       "Gender\n",
       "Female                    361.94\n",
       "Male                     1967.64\n",
       "Other / Non-Disclosed      50.19\n",
       "Name: Price, dtype: float64"
      ]
     },
     "execution_count": 11,
     "metadata": {},
     "output_type": "execute_result"
    }
   ],
   "source": [
    "#  * Total Purchase Value\n",
    "price_gender_ttl = by_gender[\"Price\"].sum()\n",
    "price_gender_ttl"
   ]
  },
  {
   "cell_type": "code",
   "execution_count": 12,
   "metadata": {},
   "outputs": [
    {
     "data": {
      "text/plain": [
       "Gender\n",
       "Female                   4.47\n",
       "Male                     4.07\n",
       "Other / Non-Disclosed    4.56\n",
       "dtype: float64"
      ]
     },
     "execution_count": 12,
     "metadata": {},
     "output_type": "execute_result"
    }
   ],
   "source": [
    "#  * Average Purchase Total per Person by Gender\n",
    "avg_purchase_gender = round(price_gender_ttl/count_gender,2)\n",
    "avg_purchase_gender \n",
    "## End Count gender totals ##\n",
    "#############################"
   ]
  },
  {
   "cell_type": "code",
   "execution_count": 13,
   "metadata": {},
   "outputs": [
    {
     "data": {
      "text/plain": [
       "45"
      ]
     },
     "execution_count": 13,
     "metadata": {},
     "output_type": "execute_result"
    }
   ],
   "source": [
    "##########################\n",
    "#### Age Demographics ####\n",
    "#What is the age range?\n",
    "#Find oldest?\n",
    "max_age = purchases_df[\"Age\"].max()\n",
    "max_age\n",
    "#So the age range is from age 0 through 45"
   ]
  },
  {
   "cell_type": "code",
   "execution_count": 14,
   "metadata": {},
   "outputs": [
    {
     "data": {
      "text/plain": [
       "45"
      ]
     },
     "execution_count": 14,
     "metadata": {},
     "output_type": "execute_result"
    }
   ],
   "source": [
    "#Find oldest?\n",
    "max_age = purchases_df[\"Age\"].max()\n",
    "max_age\n",
    "#So the age range is from age 7 through 45"
   ]
  },
  {
   "cell_type": "code",
   "execution_count": 15,
   "metadata": {},
   "outputs": [],
   "source": [
    "#* The below each broken into bins of 4 years (i.e. &lt;10, 10-14, 15-19, etc.)\n",
    "#Bins are &lt;10, 10-14, 15-19   \n",
    "bins = [0, 9.9, 14.9, 19.9, 24.9, 29.9, 34.9, 39.9, 44.9, 49.9]\n",
    "# Create the names for the eight bins\n",
    "age_range = [\"0-9\", \"10-14\", \"15-19\", \"20-24\", \"25-29\", \"30-34\", \"35-39\", \"40-44\", \"45-50\"]\n",
    "purchases_df[\"Age Range\"] = pd.cut(purchases_df[\"Age\"], bins, labels=age_range, include_lowest=True)\n",
    "#purchases_df"
   ]
  },
  {
   "cell_type": "code",
   "execution_count": 16,
   "metadata": {},
   "outputs": [],
   "source": [
    "# * Purchase Count\n",
    "by_age_range = purchases_df.groupby(\"Age Range\")\n",
    "#by_age_range.head()"
   ]
  },
  {
   "cell_type": "code",
   "execution_count": 17,
   "metadata": {},
   "outputs": [
    {
     "data": {
      "text/plain": [
       "Age Range\n",
       "0-9       17\n",
       "10-14     22\n",
       "15-19    107\n",
       "20-24    258\n",
       "25-29     77\n",
       "30-34     52\n",
       "35-39     31\n",
       "40-44     11\n",
       "45-50      1\n",
       "Name: SN, dtype: int64"
      ]
     },
     "execution_count": 17,
     "metadata": {},
     "output_type": "execute_result"
    }
   ],
   "source": [
    "#count unique Screen names by age range\n",
    "count_age_range = by_age_range.nunique()[\"SN\"]\n",
    "count_age_range"
   ]
  },
  {
   "cell_type": "code",
   "execution_count": 18,
   "metadata": {},
   "outputs": [
    {
     "data": {
      "text/plain": [
       "Age Range\n",
       "0-9      3.35\n",
       "10-14    2.96\n",
       "15-19    3.04\n",
       "20-24    3.05\n",
       "25-29    2.90\n",
       "30-34    2.93\n",
       "35-39    3.60\n",
       "40-44    3.04\n",
       "45-50    1.70\n",
       "Name: Price, dtype: float64"
      ]
     },
     "execution_count": 18,
     "metadata": {},
     "output_type": "execute_result"
    }
   ],
   "source": [
    "#  * Average Purchase Price\n",
    "avg_age_range = round(by_age_range.mean()[\"Price\"],2)\n",
    "avg_age_range"
   ]
  },
  {
   "cell_type": "code",
   "execution_count": 19,
   "metadata": {},
   "outputs": [
    {
     "data": {
      "text/plain": [
       "Age Range\n",
       "0-9        77.13\n",
       "10-14      82.78\n",
       "15-19     412.89\n",
       "20-24    1114.06\n",
       "25-29     293.00\n",
       "30-34     214.00\n",
       "35-39     147.67\n",
       "40-44      36.54\n",
       "45-50       1.70\n",
       "Name: Price, dtype: float64"
      ]
     },
     "execution_count": 19,
     "metadata": {},
     "output_type": "execute_result"
    }
   ],
   "source": [
    "#  * Total Purchase Value\n",
    "ttl_age_range = by_age_range[\"Price\"].sum()\n",
    "ttl_age_range"
   ]
  },
  {
   "cell_type": "code",
   "execution_count": 20,
   "metadata": {},
   "outputs": [
    {
     "data": {
      "text/plain": [
       "Age Range\n",
       "0-9      4.54\n",
       "10-14    3.76\n",
       "15-19    3.86\n",
       "20-24    4.32\n",
       "25-29    3.81\n",
       "30-34    4.12\n",
       "35-39    4.76\n",
       "40-44    3.32\n",
       "45-50    1.70\n",
       "dtype: float64"
      ]
     },
     "execution_count": 20,
     "metadata": {},
     "output_type": "execute_result"
    }
   ],
   "source": [
    "#  * Average Purchase Total per Person by Age Group\n",
    "ttlpurchase_age_range = round(ttl_age_range/count_age_range,2)\n",
    "ttlpurchase_age_range\n",
    "## End Age Demographics ##\n",
    "##########################"
   ]
  },
  {
   "cell_type": "code",
   "execution_count": 21,
   "metadata": {},
   "outputs": [
    {
     "data": {
      "text/plain": [
       "<pandas.core.groupby.generic.DataFrameGroupBy object at 0x000001C83E76FC10>"
      ]
     },
     "execution_count": 21,
     "metadata": {},
     "output_type": "execute_result"
    }
   ],
   "source": [
    "######################\n",
    "#### Top Spenders ####\n",
    "#* Identify the the top 5 spenders in the game by total purchase value, then list (in a table):\n",
    "#  * SN\n",
    "#group by SN\n",
    "by_SN = purchases_df.groupby(\"SN\")\n",
    "by_SN"
   ]
  },
  {
   "cell_type": "code",
   "execution_count": 22,
   "metadata": {},
   "outputs": [],
   "source": [
    "#Total purchases by screen name\n",
    "ttl_by_SN = by_SN.sum()[\"Price\"]\n",
    "#ttl_by_SN"
   ]
  },
  {
   "cell_type": "code",
   "execution_count": 23,
   "metadata": {},
   "outputs": [],
   "source": [
    "#Count number of purchases\n",
    "ttl_purchases_SN = by_SN.count()[\"Purchase ID\"]\n",
    "#ttl_purchases_SN"
   ]
  },
  {
   "cell_type": "code",
   "execution_count": 24,
   "metadata": {},
   "outputs": [],
   "source": [
    "#  * Average Purchase Price\n",
    "avg_by_SN = round(by_SN.mean()[\"Price\"],2)\n",
    "#avg_by_SN"
   ]
  },
  {
   "cell_type": "code",
   "execution_count": 79,
   "metadata": {},
   "outputs": [],
   "source": [
    "#Created Data Frame\n",
    "SN_df = pd.DataFrame({\"Purchase Count\":ttl_purchases_SN,\n",
    "                     \"Average Purchase Price\":avg_by_SN,\n",
    "                     \"Total Purchase Value\":ttl_by_SN})\n",
    "#SN_df"
   ]
  },
  {
   "cell_type": "code",
   "execution_count": 80,
   "metadata": {},
   "outputs": [
    {
     "data": {
      "text/html": [
       "<div>\n",
       "<style scoped>\n",
       "    .dataframe tbody tr th:only-of-type {\n",
       "        vertical-align: middle;\n",
       "    }\n",
       "\n",
       "    .dataframe tbody tr th {\n",
       "        vertical-align: top;\n",
       "    }\n",
       "\n",
       "    .dataframe thead th {\n",
       "        text-align: right;\n",
       "    }\n",
       "</style>\n",
       "<table border=\"1\" class=\"dataframe\">\n",
       "  <thead>\n",
       "    <tr style=\"text-align: right;\">\n",
       "      <th></th>\n",
       "      <th>Purchase Count</th>\n",
       "      <th>Average Purchase Price</th>\n",
       "      <th>Total Purchase Value</th>\n",
       "    </tr>\n",
       "    <tr>\n",
       "      <th>SN</th>\n",
       "      <th></th>\n",
       "      <th></th>\n",
       "      <th></th>\n",
       "    </tr>\n",
       "  </thead>\n",
       "  <tbody>\n",
       "    <tr>\n",
       "      <th>Lisosia93</th>\n",
       "      <td>5</td>\n",
       "      <td>3.79</td>\n",
       "      <td>18.96</td>\n",
       "    </tr>\n",
       "    <tr>\n",
       "      <th>Idastidru52</th>\n",
       "      <td>4</td>\n",
       "      <td>3.86</td>\n",
       "      <td>15.45</td>\n",
       "    </tr>\n",
       "    <tr>\n",
       "      <th>Chamjask73</th>\n",
       "      <td>3</td>\n",
       "      <td>4.61</td>\n",
       "      <td>13.83</td>\n",
       "    </tr>\n",
       "    <tr>\n",
       "      <th>Iral74</th>\n",
       "      <td>4</td>\n",
       "      <td>3.40</td>\n",
       "      <td>13.62</td>\n",
       "    </tr>\n",
       "    <tr>\n",
       "      <th>Iskadarya95</th>\n",
       "      <td>3</td>\n",
       "      <td>4.37</td>\n",
       "      <td>13.10</td>\n",
       "    </tr>\n",
       "  </tbody>\n",
       "</table>\n",
       "</div>"
      ],
      "text/plain": [
       "             Purchase Count  Average Purchase Price  Total Purchase Value\n",
       "SN                                                                       \n",
       "Lisosia93                 5                    3.79                 18.96\n",
       "Idastidru52               4                    3.86                 15.45\n",
       "Chamjask73                3                    4.61                 13.83\n",
       "Iral74                    4                    3.40                 13.62\n",
       "Iskadarya95               3                    4.37                 13.10"
      ]
     },
     "execution_count": 80,
     "metadata": {},
     "output_type": "execute_result"
    }
   ],
   "source": [
    "#Find 5 largest total value\n",
    "largest_SN_df = SN_df.nlargest(5, \"Total Purchase Value\")\n",
    "largest_SN_df\n",
    "## End Top Spenders ##\n",
    "######################"
   ]
  },
  {
   "cell_type": "code",
   "execution_count": 73,
   "metadata": {},
   "outputs": [
    {
     "data": {
      "text/plain": [
       "<pandas.core.groupby.generic.DataFrameGroupBy object at 0x000001C83E79F7C0>"
      ]
     },
     "execution_count": 73,
     "metadata": {},
     "output_type": "execute_result"
    }
   ],
   "source": [
    "############################\n",
    "#### Most popular items ####\n",
    "#* Identify the 5 most popular items by purchase count, then list (in a table):\n",
    "#group by Item\n",
    "by_item_ID = purchases_df.groupby([\"Item ID\",\"Item Name\"])\n",
    "by_item_ID"
   ]
  },
  {
   "cell_type": "code",
   "execution_count": 74,
   "metadata": {},
   "outputs": [],
   "source": [
    "#Count how many of each item was sold\n",
    "ct_item_sold = by_item_ID.count()[\"Price\"]\n",
    "#ct_item_sold"
   ]
  },
  {
   "cell_type": "code",
   "execution_count": 75,
   "metadata": {},
   "outputs": [],
   "source": [
    "total_value_item = by_item_ID.sum()[\"Price\"]\n",
    "#total_value_item"
   ]
  },
  {
   "cell_type": "code",
   "execution_count": 76,
   "metadata": {},
   "outputs": [],
   "source": [
    "by_item_price = round(total_value_item/ct_item_sold,2)\n",
    "#by_item_price"
   ]
  },
  {
   "cell_type": "code",
   "execution_count": 77,
   "metadata": {},
   "outputs": [],
   "source": [
    "item_df = pd.DataFrame({\"Purchase Count\":ct_item_sold,\n",
    "                      \"Item Price\":by_item_price, \n",
    "                      \"Total Purchase Value\":total_value_item})                       \n",
    "#item_df"
   ]
  },
  {
   "cell_type": "code",
   "execution_count": 85,
   "metadata": {},
   "outputs": [],
   "source": [
    "#Top 5 Items\n",
    "popular_item_df = item_df.nlargest(5, \"Total Purchase Value\")\n",
    "popular_item_df\n",
    "## End Most popular items ##\n",
    "############################"
   ]
  },
  {
   "cell_type": "code",
   "execution_count": 84,
   "metadata": {},
   "outputs": [
    {
     "data": {
      "text/html": [
       "<style  type=\"text/css\" >\n",
       "</style><table id=\"T_f6093c04_798f_11eb_bc9d_c82158c314c7\" ><thead>    <tr>        <th class=\"blank\" ></th>        <th class=\"blank level0\" ></th>        <th class=\"col_heading level0 col0\" >Purchase Count</th>        <th class=\"col_heading level0 col1\" >Item Price</th>        <th class=\"col_heading level0 col2\" >Total Purchase Value</th>    </tr>    <tr>        <th class=\"index_name level0\" >Item ID</th>        <th class=\"index_name level1\" >Item Name</th>        <th class=\"blank\" ></th>        <th class=\"blank\" ></th>        <th class=\"blank\" ></th>    </tr></thead><tbody>\n",
       "                <tr>\n",
       "                        <th id=\"T_f6093c04_798f_11eb_bc9d_c82158c314c7level0_row0\" class=\"row_heading level0 row0\" >92</th>\n",
       "                        <th id=\"T_f6093c04_798f_11eb_bc9d_c82158c314c7level1_row0\" class=\"row_heading level1 row0\" >Final Critic</th>\n",
       "                        <td id=\"T_f6093c04_798f_11eb_bc9d_c82158c314c7row0_col0\" class=\"data row0 col0\" >13</td>\n",
       "                        <td id=\"T_f6093c04_798f_11eb_bc9d_c82158c314c7row0_col1\" class=\"data row0 col1\" >$4.61</td>\n",
       "                        <td id=\"T_f6093c04_798f_11eb_bc9d_c82158c314c7row0_col2\" class=\"data row0 col2\" >$59.99</td>\n",
       "            </tr>\n",
       "            <tr>\n",
       "                        <th id=\"T_f6093c04_798f_11eb_bc9d_c82158c314c7level0_row1\" class=\"row_heading level0 row1\" >178</th>\n",
       "                        <th id=\"T_f6093c04_798f_11eb_bc9d_c82158c314c7level1_row1\" class=\"row_heading level1 row1\" >Oathbreaker, Last Hope of the Breaking Storm</th>\n",
       "                        <td id=\"T_f6093c04_798f_11eb_bc9d_c82158c314c7row1_col0\" class=\"data row1 col0\" >12</td>\n",
       "                        <td id=\"T_f6093c04_798f_11eb_bc9d_c82158c314c7row1_col1\" class=\"data row1 col1\" >$4.23</td>\n",
       "                        <td id=\"T_f6093c04_798f_11eb_bc9d_c82158c314c7row1_col2\" class=\"data row1 col2\" >$50.76</td>\n",
       "            </tr>\n",
       "            <tr>\n",
       "                        <th id=\"T_f6093c04_798f_11eb_bc9d_c82158c314c7level0_row2\" class=\"row_heading level0 row2\" >82</th>\n",
       "                        <th id=\"T_f6093c04_798f_11eb_bc9d_c82158c314c7level1_row2\" class=\"row_heading level1 row2\" >Nirvana</th>\n",
       "                        <td id=\"T_f6093c04_798f_11eb_bc9d_c82158c314c7row2_col0\" class=\"data row2 col0\" >9</td>\n",
       "                        <td id=\"T_f6093c04_798f_11eb_bc9d_c82158c314c7row2_col1\" class=\"data row2 col1\" >$4.90</td>\n",
       "                        <td id=\"T_f6093c04_798f_11eb_bc9d_c82158c314c7row2_col2\" class=\"data row2 col2\" >$44.10</td>\n",
       "            </tr>\n",
       "            <tr>\n",
       "                        <th id=\"T_f6093c04_798f_11eb_bc9d_c82158c314c7level0_row3\" class=\"row_heading level0 row3\" >145</th>\n",
       "                        <th id=\"T_f6093c04_798f_11eb_bc9d_c82158c314c7level1_row3\" class=\"row_heading level1 row3\" >Fiery Glass Crusader</th>\n",
       "                        <td id=\"T_f6093c04_798f_11eb_bc9d_c82158c314c7row3_col0\" class=\"data row3 col0\" >9</td>\n",
       "                        <td id=\"T_f6093c04_798f_11eb_bc9d_c82158c314c7row3_col1\" class=\"data row3 col1\" >$4.58</td>\n",
       "                        <td id=\"T_f6093c04_798f_11eb_bc9d_c82158c314c7row3_col2\" class=\"data row3 col2\" >$41.22</td>\n",
       "            </tr>\n",
       "            <tr>\n",
       "                        <th id=\"T_f6093c04_798f_11eb_bc9d_c82158c314c7level0_row4\" class=\"row_heading level0 row4\" >103</th>\n",
       "                        <th id=\"T_f6093c04_798f_11eb_bc9d_c82158c314c7level1_row4\" class=\"row_heading level1 row4\" >Singed Scalpel</th>\n",
       "                        <td id=\"T_f6093c04_798f_11eb_bc9d_c82158c314c7row4_col0\" class=\"data row4 col0\" >8</td>\n",
       "                        <td id=\"T_f6093c04_798f_11eb_bc9d_c82158c314c7row4_col1\" class=\"data row4 col1\" >$4.35</td>\n",
       "                        <td id=\"T_f6093c04_798f_11eb_bc9d_c82158c314c7row4_col2\" class=\"data row4 col2\" >$34.80</td>\n",
       "            </tr>\n",
       "    </tbody></table>"
      ],
      "text/plain": [
       "<pandas.io.formats.style.Styler at 0x1c83ea1d7f0>"
      ]
     },
     "execution_count": 84,
     "metadata": {},
     "output_type": "execute_result"
    }
   ],
   "source": [
    "###############################\n",
    "#### Most Profitable Items ####\n",
    "# Take the most_popular items data frame and change the sorting to find highest total purchase value\n",
    "popular_formatted = popular_item_df.sort_values([\"Total Purchase Value\"],\n",
    "                                                   ascending=False).head()\n",
    "# Format with currency style\n",
    "popular_formatted.style.format({\"Item Price\":\"${:,.2f}\",\n",
    "                                \"Total Purchase Value\":\"${:,.2f}\"})\n",
    "## End Most Profitable Items ##           \n",
    "###############################\n"
   ]
  }
 ],
 "metadata": {
  "kernelspec": {
   "display_name": "Python 3",
   "language": "python",
   "name": "python3"
  },
  "language_info": {
   "codemirror_mode": {
    "name": "ipython",
    "version": 3
   },
   "file_extension": ".py",
   "mimetype": "text/x-python",
   "name": "python",
   "nbconvert_exporter": "python",
   "pygments_lexer": "ipython3",
   "version": "3.8.5"
  }
 },
 "nbformat": 4,
 "nbformat_minor": 4
}
